{
 "cells": [
  {
   "cell_type": "code",
   "execution_count": 3,
   "metadata": {},
   "outputs": [
    {
     "name": "stdout",
     "output_type": "stream",
     "text": [
      "The length of the password should be greater than 1\n"
     ]
    }
   ],
   "source": [
    "import string \n",
    "import random\n",
    "def gen_password(l):\n",
    "    ch=string.ascii_letters+string.digits+string.punctuation\n",
    "    password=\"\"\n",
    "    for i in range(l):\n",
    "        e=random.choice(ch)\n",
    "        password+=e\n",
    "    return password\n",
    "n=int(input(\"enter the length of the password you want\"))\n",
    "if n<1:\n",
    "    print(\"The length of the password should be greater than 1\")\n",
    "else:\n",
    "    word=gen_password(n)\n",
    "    print(\"The generated password is:\",word)"
   ]
  },
  {
   "cell_type": "code",
   "execution_count": null,
   "metadata": {},
   "outputs": [],
   "source": []
  }
 ],
 "metadata": {
  "kernelspec": {
   "display_name": "base",
   "language": "python",
   "name": "python3"
  },
  "language_info": {
   "codemirror_mode": {
    "name": "ipython",
    "version": 3
   },
   "file_extension": ".py",
   "mimetype": "text/x-python",
   "name": "python",
   "nbconvert_exporter": "python",
   "pygments_lexer": "ipython3",
   "version": "3.12.4"
  }
 },
 "nbformat": 4,
 "nbformat_minor": 2
}
