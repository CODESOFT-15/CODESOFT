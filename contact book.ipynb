{
 "cells": [
  {
   "cell_type": "code",
   "execution_count": 1,
   "metadata": {},
   "outputs": [
    {
     "name": "stdout",
     "output_type": "stream",
     "text": [
      "******************************************\n",
      "####Number successfully added to contact book#####\n",
      "******************************************\n",
      "####Number successfully added to contact book#####\n",
      "******************************************\n",
      "The members in the contact book are:\n",
      "kiran:9640884546\n",
      "kirtan:9704337955\n",
      "--------------------------------------\n",
      "******************************************\n",
      "Not interested to add contacts\n",
      "Ended\n"
     ]
    }
   ],
   "source": [
    "class Contactlist:\n",
    "    def __init__(self):\n",
    "        self.dic={}\n",
    "    def add(self,name,phone):\n",
    "        if(name in self.dic.keys()):\n",
    "            print(\"Name already exists\")\n",
    "        else:\n",
    "            self.dic[name]=phone\n",
    "            print(\"####Number successfully added to contact book#####\")\n",
    "    def remove_1(self,name):\n",
    "        if(name in self.dic.keys()):\n",
    "            self.dic.pop(name)\n",
    "            print(\"xxxxNumber has been deleted from Contact book:xxxx\")\n",
    "        else:\n",
    "            print(\"&&&&user doesnot exists to delete&&&&\")\n",
    "    def display(self):\n",
    "        if(len(self.dic)==0):\n",
    "            print(\"^^^^The contact book is empty^^^^\")\n",
    "        else:\n",
    "            print(\"The members in the contact book are:\")\n",
    "            for i,j in self.dic.items():\n",
    "                print(f\"{i}:{j}\")\n",
    "            print(\"--------------------------------------\")\n",
    "c=Contactlist()\n",
    "while True:\n",
    "    choice=int(input(\"Enter your choices\\n1.create new contact\\n2.remove contact\\n3.display contacts\\n4.to stop process\"))\n",
    "    print(\"******************************************\")\n",
    "    if(choice==1):\n",
    "        name = input(\"Enter name:\")\n",
    "        phone = input(\"Enter phone number\")\n",
    "        email = input(\"Enter email\")\n",
    "        address=input(\"Enter address\")\n",
    "        c.add(name,phone)\n",
    "    elif(choice==2):\n",
    "        name=input(\"Enter name to be deleted:\")\n",
    "        c.remove_1(name)\n",
    "    elif(choice==3):\n",
    "        c.display()\n",
    "    else:\n",
    "        print(\"Not interested to add contacts\\nEnded\")\n",
    "        break"
   ]
  },
  {
   "cell_type": "code",
   "execution_count": null,
   "metadata": {},
   "outputs": [],
   "source": []
  }
 ],
 "metadata": {
  "kernelspec": {
   "display_name": "base",
   "language": "python",
   "name": "python3"
  },
  "language_info": {
   "codemirror_mode": {
    "name": "ipython",
    "version": 3
   },
   "file_extension": ".py",
   "mimetype": "text/x-python",
   "name": "python",
   "nbconvert_exporter": "python",
   "pygments_lexer": "ipython3",
   "version": "3.12.4"
  }
 },
 "nbformat": 4,
 "nbformat_minor": 2
}
