{
 "cells": [
  {
   "cell_type": "code",
   "execution_count": 4,
   "metadata": {},
   "outputs": [
    {
     "name": "stdout",
     "output_type": "stream",
     "text": [
      "user's choice:stone and computer's choice:stone\n",
      "It's a Tie\n",
      "user's choice:paper and computer's choice:paper\n",
      "It's a tie\n",
      "user's choice:stone and computer's choice:scissors\n",
      "user wins the game\n",
      "user's choice:scissors and computer's choice:stone\n",
      "computer wins the game\n",
      "The game is ended\n"
     ]
    }
   ],
   "source": [
    "import random\n",
    "def winner(n):\n",
    "    ll=[\"stone\",\"paper\",\"scissors\"]\n",
    "    ch=random.choice(ll)\n",
    "    print(f\"user's choice:{n} and computer's choice:{ch}\")\n",
    "    if (n==\"stone\"):\n",
    "        if (ch==\"paper\"):\n",
    "            print(\"computer wins the game\")\n",
    "        elif (ch==\"scissors\"):\n",
    "            print(\"user wins the game\")\n",
    "        else:\n",
    "            print(\"It's a Tie\")\n",
    "    elif (n==\"paper\"):\n",
    "        if (ch==\"stone\"):\n",
    "            print(\"user wins the game\")\n",
    "        elif (ch==\"scissors\"):\n",
    "            print(\"computer wins the game\")\n",
    "        else:\n",
    "            print(\"It's a tie\")\n",
    "    else:\n",
    "        if (ch==\"stone\"):\n",
    "            print(\"computer wins the game\")\n",
    "        elif (ch==\"paper\"):\n",
    "            print(\"user wins the game\")\n",
    "        else:\n",
    "            print(\"It's a tie\")\n",
    "while True:\n",
    "    d=input(\"enter p to play and q to quit\")\n",
    "    if d==\"p\":\n",
    "        e=input(\"enter your choice from stone,paper,scissors\")\n",
    "        user_choice=e.lower()\n",
    "        winner(user_choice)\n",
    "    else:\n",
    "        print(\"The game is ended\")\n",
    "        break"
   ]
  },
  {
   "cell_type": "markdown",
   "metadata": {},
   "source": []
  },
  {
   "cell_type": "code",
   "execution_count": null,
   "metadata": {},
   "outputs": [],
   "source": []
  },
  {
   "cell_type": "code",
   "execution_count": null,
   "metadata": {},
   "outputs": [],
   "source": []
  }
 ],
 "metadata": {
  "kernelspec": {
   "display_name": "base",
   "language": "python",
   "name": "python3"
  },
  "language_info": {
   "codemirror_mode": {
    "name": "ipython",
    "version": 3
   },
   "file_extension": ".py",
   "mimetype": "text/x-python",
   "name": "python",
   "nbconvert_exporter": "python",
   "pygments_lexer": "ipython3",
   "version": "3.12.4"
  }
 },
 "nbformat": 4,
 "nbformat_minor": 2
}
